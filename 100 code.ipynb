{
 "cells": [
  {
   "cell_type": "code",
   "execution_count": 1,
   "metadata": {},
   "outputs": [
    {
     "name": "stdout",
     "output_type": "stream",
     "text": [
      "Negative Number\n",
      "Zero\n",
      "Possitive\n"
     ]
    }
   ],
   "source": [
    "def numchecker(n):\n",
    "    if n < 0:\n",
    "        return \"Negative Number\"\n",
    "    elif n == 0:\n",
    "        return \"Zero\"\n",
    "    else:\n",
    "        return \"Possitive\"\n",
    "    \n",
    "print(numchecker(-4))\n",
    "print(numchecker(0))\n",
    "print(numchecker(5))"
   ]
  },
  {
   "cell_type": "code",
   "execution_count": 2,
   "metadata": {},
   "outputs": [
    {
     "name": "stdout",
     "output_type": "stream",
     "text": [
      "Even\n",
      "Odd\n"
     ]
    }
   ],
   "source": [
    "def odd_Even(n):\n",
    "    if n % 2 == 0:\n",
    "        return \"Even\"\n",
    "    else:\n",
    "        return \"Odd\"\n",
    "\n",
    "print(odd_Even(8))\n",
    "print(odd_Even(7))"
   ]
  },
  {
   "cell_type": "code",
   "execution_count": 2,
   "metadata": {},
   "outputs": [
    {
     "name": "stdout",
     "output_type": "stream",
     "text": [
      "0\n",
      "65\n"
     ]
    }
   ],
   "source": [
    "number = int(input(\"Enter The number\"))\n",
    "\n",
    "sum = number * (number + 1) * 2\n",
    "\n",
    "sum2 = 0\n",
    "for i in range(1,number + 1):\n",
    "    sum2 += 1\n",
    "print(sum2)\n",
    "\n",
    "print(sum)"
   ]
  }
 ],
 "metadata": {
  "kernelspec": {
   "display_name": "Python 3",
   "language": "python",
   "name": "python3"
  },
  "language_info": {
   "codemirror_mode": {
    "name": "ipython",
    "version": 3
   },
   "file_extension": ".py",
   "mimetype": "text/x-python",
   "name": "python",
   "nbconvert_exporter": "python",
   "pygments_lexer": "ipython3",
   "version": "3.11.2"
  },
  "orig_nbformat": 4
 },
 "nbformat": 4,
 "nbformat_minor": 2
}
